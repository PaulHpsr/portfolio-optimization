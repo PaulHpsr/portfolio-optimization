{
 "cells": [
  {
   "cell_type": "code",
   "execution_count": null,
   "metadata": {},
   "outputs": [
    {
     "name": "stderr",
     "output_type": "stream",
     "text": [
      "[*********************100%***********************]  5 of 5 completed"
     ]
    },
    {
     "name": "stdout",
     "output_type": "stream",
     "text": [
      "\n",
      "Sharpe Ratio annualisé :\n",
      " Ticker\n",
      "AAPL    -0.125460\n",
      "DIS      0.879576\n",
      "GOOGL    0.469944\n",
      "MSFT     0.885201\n",
      "TSLA     0.548647\n",
      "dtype: float64\n",
      "\n",
      "Nombre de jours observés : 248\n"
     ]
    },
    {
     "name": "stderr",
     "output_type": "stream",
     "text": [
      "\n"
     ]
    }
   ],
   "source": [
    "import pandas as pd\n",
    "import sys\n",
    "\n",
    "sys.path.append(\"../src\")\n",
    "\n",
    "from data_loader import get_data_adj\n",
    "from risk_metrics import compute_returns, compute_volatility, compute_sharpe_ratio\n",
    "\n",
    "# Récupération des prix ajustés\n",
    "#Attention on ne peut faire qu'un an de periode avec notre fonction\n",
    "tickers = [\"AAPL\", \"MSFT\", \"TSLA\", \"GOOGL\", \"DIS\"]\n",
    "prices = get_data_adj(tickers, start=\"2024-08-01\", end=\"2025-07-31\", auto_adjust=False)\n",
    "\n",
    "# Calculs\n",
    "returns = compute_returns(prices)\n",
    "volatility = compute_volatility(returns)\n",
    "sharpe = compute_sharpe_ratio(returns)\n",
    "\n",
    "# Affichage des résultats\n",
    "\n",
    "print(\"\\nSharpe Ratio annualisé :\\n\", sharpe)\n",
    "print(\"\\nNombre de jours observés :\", len(returns))\n"
   ]
  },
  {
   "cell_type": "markdown",
   "metadata": {},
   "source": [
    "## Résultats des métriques de risque\n",
    "\n",
    "Voici les Sharpe Ratios annualisés pour chaque actif, ainsi que le nombre de jours observés :\n",
    "\n",
    "- **Sharpe Ratio** : mesure de la performance ajustée au risque\n",
    "- **Nombre de jours** : période d'observation utilisée pour les calculs\n",
    "\n",
    "Ces résultats permettent de comparer les actifs\n"
   ]
  }
 ],
 "metadata": {
  "kernelspec": {
   "display_name": "env",
   "language": "python",
   "name": "python3"
  },
  "language_info": {
   "codemirror_mode": {
    "name": "ipython",
    "version": 3
   },
   "file_extension": ".py",
   "mimetype": "text/x-python",
   "name": "python",
   "nbconvert_exporter": "python",
   "pygments_lexer": "ipython3",
   "version": "3.12.3"
  }
 },
 "nbformat": 4,
 "nbformat_minor": 2
}
