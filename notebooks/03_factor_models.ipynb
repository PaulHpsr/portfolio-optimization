{
 "cells": [
  {
   "cell_type": "markdown",
   "metadata": {},
   "source": [
    "# Modèles Factoriels : CAPM & Fama-French\n",
    "\n",
    "Permet d’estimer les sensibilités des actifs à différents facteurs de marché à l’aide de modèles linéaires :\n",
    "\n",
    "- CAPM : sensibilité au marché (beta)\n",
    "- Fama-French 3 facteurs : marché, taille (SMB), valeur (HML)\n",
    "\n",
    "Les résultats incluent les coefficients, les p-values, le R² et l’alpha.\n",
    "\n",
    "# CAPM"
   ]
  },
  {
   "cell_type": "code",
   "execution_count": 2,
   "metadata": {},
   "outputs": [
    {
     "name": "stderr",
     "output_type": "stream",
     "text": [
      "[*********************100%***********************]  5 of 5 completed\n",
      "[*********************100%***********************]  1 of 1 completed"
     ]
    },
    {
     "name": "stdout",
     "output_type": "stream",
     "text": [
      "Betas CAPM :\n",
      "AAPL     1.2256\n",
      "DIS      1.0179\n",
      "GOOGL    1.0318\n",
      "MSFT     0.9597\n",
      "TSLA     2.3786\n",
      "dtype: float64\n",
      "\n",
      "Rendements attendus via CAPM :\n",
      "AAPL     0.0935\n",
      "DIS      0.0811\n",
      "GOOGL    0.0819\n",
      "MSFT     0.0776\n",
      "TSLA     0.1627\n",
      "dtype: float64\n"
     ]
    },
    {
     "name": "stderr",
     "output_type": "stream",
     "text": [
      "\n"
     ]
    }
   ],
   "source": [
    "import pandas as pd\n",
    "import numpy as np\n",
    "from sklearn.linear_model import LinearRegression\n",
    "import sys\n",
    "\n",
    "sys.path.append(\"../src\")\n",
    "\n",
    "from factor_models import run_capm, expected_returns_capm\n",
    "from data_loader import get_data_adj, get_benchmark\n",
    "\n",
    "tickers = [\"AAPL\", \"MSFT\", \"TSLA\", \"GOOGL\", \"DIS\"]\n",
    "prices = get_data_adj(tickers, start=\"2024-08-01\", end=\"2025-07-31\")\n",
    "\n",
    "#Ici nous prenons le S&P500 comme benchmark\n",
    "import yfinance as yf\n",
    "benchmark = get_benchmark(start=\"2024-08-01\", end=\"2025-07-31\")\n",
    "\n",
    "\n",
    "# Calcul des betas CAPM\n",
    "betas = run_capm(prices, benchmark, risk_free_rate=0.02)\n",
    "\n",
    "# Calcul des rendements attendus\n",
    "exp_returns = expected_returns_capm(betas, expected_market_return=0.08, risk_free_rate=0.02)\n",
    "\n",
    "# Affichage\n",
    "print(\"Betas CAPM :\")\n",
    "print(betas.round(4))\n",
    "print(\"\\nRendements attendus via CAPM :\")\n",
    "print(exp_returns.round(4))\n"
   ]
  },
  {
   "cell_type": "markdown",
   "metadata": {},
   "source": [
    "## Résultats du modèle CAPM\n",
    "\n",
    "Le modèle CAPM permet d’estimer la sensibilité de chaque actif au marché via le **beta**, et d’en déduire le **rendement attendu** en fonction du risque systématique.\n",
    "\n",
    "### Betas CAPM :\n",
    "- Un **beta > 1** indique une volatilité supérieure à celle du marché (ex: TSLA).\n",
    "- Un **beta < 1** indique une volatilité inférieure (ex: MSFT).\n",
    "- Un **beta ≈ 1** signifie que l’actif évolue globalement comme le marché (ex: DIS).\n",
    "\n",
    "### Rendements attendus :\n",
    "\n",
    "Ces rendements permettent d’évaluer si un actif est **surperformant ou sous-performant** par rapport à ce que le modèle prédit.\n",
    "\n",
    "# FAMA-FRENCH"
   ]
  },
  {
   "cell_type": "code",
   "execution_count": 1,
   "metadata": {},
   "outputs": [
    {
     "name": "stderr",
     "output_type": "stream",
     "text": [
      "[*********************100%***********************]  5 of 5 completed"
     ]
    },
    {
     "name": "stdout",
     "output_type": "stream",
     "text": [
      "\n",
      "Résultats Fama-French 3 Facteurs (facteurs réels Fama-French) :\n",
      "        Alpha  Beta_MKT  Beta_SMB  Beta_HML  R_squared   p_MKT   p_SMB   p_HML\n",
      "AAPL   0.0047    0.0311    0.1856    0.0073     0.3461  0.8063  0.3707  0.9733\n",
      "DIS   -0.0069    0.1321   -0.0129   -0.0879     0.4439  0.2035  0.9285  0.5905\n",
      "GOOGL  0.0099   -0.0307    0.0412   -0.2195     0.2372  0.8206  0.8444  0.3735\n",
      "MSFT   0.0102    0.0609    0.0000   -0.1060     0.1546  0.6291  1.0000  0.6269\n",
      "TSLA  -0.0072    0.2074    0.3096    0.1501     0.3979  0.4930  0.5081  0.7682\n"
     ]
    },
    {
     "name": "stderr",
     "output_type": "stream",
     "text": [
      "\n"
     ]
    }
   ],
   "source": [
    "import pandas as pd\n",
    "import numpy as np\n",
    "import sys\n",
    "\n",
    "sys.path.append(\"..\")\n",
    "from src.data_loader import get_data_adj, get_ff_factors\n",
    "from src.factor_models import run_fama_french_stats\n",
    "\n",
    "# Définir les tickers et la période\n",
    "tickers = [\"AAPL\", \"MSFT\", \"TSLA\", \"GOOGL\", \"DIS\"]\n",
    "start_date = \"2023-08-01\"\n",
    "end_date = \"2024-07-31\"\n",
    "\n",
    "start_date_ff = \"20230801\"\n",
    "end_date_ff = \"20240731\"\n",
    "# Télécharger les prix ajustés des actifs\n",
    "prices = get_data_adj(tickers, start=start_date, end=end_date)\n",
    "\n",
    "# Calcul des rendements journaliers des actifs\n",
    "returns = np.log(prices / prices.shift(1)).dropna()\n",
    "\n",
    "# Choisir la fréquence des facteurs (monthly ou annual)\n",
    "frequency = 'monthly'\n",
    "\n",
    "# Récupérer les facteurs Fama-French avec la bonne fréquence\n",
    "factors_daily = get_ff_factors(start_date_ff, end_date_ff, frequency=frequency)\n",
    "\n",
    "# Estimation Fama-French avec les facteurs réels\n",
    "results_ff = run_fama_french_stats(returns, factors_daily, risk_free_rate=0.02)\n",
    "\n",
    "# Affichage des résultats\n",
    "print(\"\\nRésultats Fama-French 3 Facteurs (facteurs réels Fama-French) :\")\n",
    "print(results_ff.round(4))\n"
   ]
  }
 ],
 "metadata": {
  "kernelspec": {
   "display_name": "env",
   "language": "python",
   "name": "python3"
  },
  "language_info": {
   "codemirror_mode": {
    "name": "ipython",
    "version": 3
   },
   "file_extension": ".py",
   "mimetype": "text/x-python",
   "name": "python",
   "nbconvert_exporter": "python",
   "pygments_lexer": "ipython3",
   "version": "3.12.3"
  }
 },
 "nbformat": 4,
 "nbformat_minor": 2
}
